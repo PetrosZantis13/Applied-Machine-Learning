{
 "cells": [
  {
   "cell_type": "markdown",
   "metadata": {},
   "source": [
    "########################################################<br>\n",
    " Python script template for Question 2 (IAML Level 10)<br>\n",
    " Note that<br>\n",
    " - You should not change the name of this file, 'iaml01cw2_q2.py', which is the file name you should use when you submit your code for this question.<br>\n",
    " - You should write code for the functions defined below. Do not change their names.<br>\n",
    " - You can define function arguments (parameters) and returns (attributes) if necessary.<br>\n",
    " - In case you define additional functions, do not define them here, but put them in a separate Python module file, \"iaml01cw2_my_helpers.py\", and import it in this script.<br>\n",
    " - For those questions requiring you to show results in tables, your code does not need to present them in tables - just showing them with print() is fine.<br>\n",
    " - You do not need to include this header in your submission.<br>\n",
    "########################################################"
   ]
  },
  {
   "cell_type": "markdown",
   "metadata": {},
   "source": [
    "-- Code for loading modules and the data set and pre-processing ---><br>\n",
    "NB: You can edit the following and add code (e.g. code for loading sklearn) if necessary."
   ]
  },
  {
   "cell_type": "code",
   "execution_count": 1,
   "metadata": {},
   "outputs": [
    {
     "name": "stderr",
     "output_type": "stream",
     "text": [
      "C:\\Users\\Petros Laptop\\Anaconda3\\envs\\py3iaml\\lib\\site-packages\\sklearn\\utils\\__init__.py:4: DeprecationWarning: Using or importing the ABCs from 'collections' instead of from 'collections.abc' is deprecated since Python 3.3,and in 3.9 it will stop working\n",
      "  from collections import Sequence\n",
      "C:\\Users\\Petros Laptop\\Anaconda3\\envs\\py3iaml\\lib\\site-packages\\sklearn\\ensemble\\weight_boosting.py:29: DeprecationWarning: numpy.core.umath_tests is an internal NumPy module and should not be imported. It will be removed in a future NumPy release.\n",
      "  from numpy.core.umath_tests import inner1d\n"
     ]
    }
   ],
   "source": [
    "import time\n",
    "import numpy as np\n",
    "import scipy\n",
    "import matplotlib.pyplot as plt\n",
    "import seaborn as sns\n",
    "from sklearn.model_selection import cross_val_score\n",
    "from sklearn.linear_model import LogisticRegression\n",
    "from sklearn.svm import SVC\n",
    "from sklearn.multiclass import OneVsRestClassifier\n",
    "from sklearn.ensemble import BaggingClassifier\n",
    "from sklearn.metrics import confusion_matrix\n",
    "from sklearn.decomposition import PCA\n",
    "from scipy import sparse\n",
    "from iaml01cw2_helpers import *\n",
    "from iaml01cw2_my_helpers import *"
   ]
  },
  {
   "cell_type": "code",
   "execution_count": 2,
   "metadata": {},
   "outputs": [
    {
     "name": "stdout",
     "output_type": "stream",
     "text": [
      "(60000, 784)\n",
      "(60000,)\n",
      "(10000, 784)\n",
      "(10000,)\n"
     ]
    }
   ],
   "source": [
    "data_path = os.path.join(os.getcwd(), 'data')\n",
    "Xtrn, Ytrn, Xtst, Ytst = load_FashionMNIST(data_path)\n",
    "print(Xtrn.shape)\n",
    "print(Ytrn.shape)\n",
    "print(Xtst.shape)\n",
    "print(Ytst.shape)\n",
    "Xtrn_orig = Xtrn.copy()\n",
    "Xtst_orig = Xtst.copy()\n",
    "Xtrn /= 255.0\n",
    "Xtst /= 255.0\n",
    "Xmean = np.mean(Xtrn, axis=0)\n",
    "Xtrn_nm = Xtrn - Xmean\n",
    "Xtst_nm = Xtst - Xmean"
   ]
  },
  {
   "cell_type": "markdown",
   "metadata": {},
   "source": [
    "----"
   ]
  },
  {
   "cell_type": "markdown",
   "metadata": {},
   "source": [
    "Q2.1"
   ]
  },
  {
   "cell_type": "code",
   "execution_count": 3,
   "metadata": {},
   "outputs": [
    {
     "name": "stdout",
     "output_type": "stream",
     "text": [
      "(60000, 784)\n",
      "(60000,)\n",
      "(60000, 784)\n",
      "Logistic Regression classification accuracy on test set: 0.840\n",
      "\n",
      "The Confusion Matrix:\n",
      "[[819   3  15  50   7   4  90   1  11   0]\n",
      " [  5 953   4  27   5   0   3   1   2   0]\n",
      " [ 27   4 731  11 133   0  82   2   9   1]\n",
      " [ 31  15  14 866  33   0  37   0   4   0]\n",
      " [  0   3 115  38 760   2  72   0  10   0]\n",
      " [  2   0   0   1   0 911   0  56  10  20]\n",
      " [147   3 128  46 108   0 539   0  28   1]\n",
      " [  0   0   0   0   0  32   0 936   1  31]\n",
      " [  7   1   6  11   3   7  15   5 945   0]\n",
      " [  0   0   0   1   0  15   1  42   0 941]]\n",
      "Total time taken = 336.7721245288849\n"
     ]
    }
   ],
   "source": [
    "def iaml01cw2_q2_1():\n",
    "    \n",
    "    print(Xtrn_nm.shape)\n",
    "    print(Ytrn.shape)\n",
    "    logreg = LogisticRegression()\n",
    "    \n",
    "    X_csr = sparse.csr_matrix(Xtrn_nm)\n",
    "    print(X_csr.shape)\n",
    "    \n",
    "    logreg.fit(X_csr,Ytrn)\n",
    "    print('Logistic Regression classification accuracy on test set: {:.3f}'.format(logreg.score(Xtst_nm, Ytst)))\n",
    "    print('\\nThe Confusion Matrix:')\n",
    "    cm = confusion_matrix(Ytst, logreg.predict(Xtst_nm))\n",
    "    print(cm)\n",
    "    \n",
    "    return logreg\n",
    "\n",
    "t1 = time.time()\n",
    "logreg = iaml01cw2_q2_1() \n",
    "t2 = time.time()\n",
    "print(f\"Total time taken = {t2-t1}\")"
   ]
  },
  {
   "cell_type": "code",
   "execution_count": 4,
   "metadata": {},
   "outputs": [
    {
     "name": "stdout",
     "output_type": "stream",
     "text": [
      "RBF SVM classification accuracy on test set: 0.846\n",
      "[[845   2   8  51   4   4  72   0  14   0]\n",
      " [  4 951   7  31   5   0   1   0   1   0]\n",
      " [ 15   2 748  11 137   0  79   0   8   0]\n",
      " [ 32   6  12 881  26   0  40   0   3   0]\n",
      " [  1   0  98  36 775   0  86   0   4   0]\n",
      " [  0   0   0   1   0 914   0  57   2  26]\n",
      " [185   1 122  39  95   0 533   0  25   0]\n",
      " [  0   0   0   0   0  34   0 925   0  41]\n",
      " [  3   1   8   5   2   4  13   4 959   1]\n",
      " [  0   0   0   0   0  22   0  47   1 930]]\n",
      "Total time taken = 1777.7920575141907\n"
     ]
    }
   ],
   "source": [
    "def iaml01cw2_q2_2():\n",
    "    \n",
    "    X_csr = sparse.csr_matrix(Xtrn_nm)\n",
    "    svc_rbf = SVC(gamma='auto')\n",
    "    svc_rbf.fit(X_csr, Ytrn)\n",
    "    print('RBF SVM classification accuracy on test set: {:.3f}'.format(svc_rbf.score(Xtst_nm, Ytst)))\n",
    "    cm = confusion_matrix(Ytst, svc_rbf.predict(Xtst_nm))\n",
    "    print(cm)\n",
    "    \n",
    "    return svc_rbf\n",
    "    \n",
    "t1 = time.time()\n",
    "svc_rbf = iaml01cw2_q2_2()  \n",
    "t2 = time.time()\n",
    "print(f\"Total time taken = {t2-t1}\")"
   ]
  },
  {
   "cell_type": "markdown",
   "metadata": {},
   "source": [
    "Q2.3"
   ]
  },
  {
   "cell_type": "code",
   "execution_count": 31,
   "metadata": {},
   "outputs": [
    {
     "name": "stdout",
     "output_type": "stream",
     "text": [
      "Sigma 1 = 4.450820786444203\n",
      "Sigma 2 = 3.4802601145968133\n",
      "PC1 shape : (784,)\n",
      "PC2 shape : (784,)\n"
     ]
    },
    {
     "data": {
      "image/png": "[encoded data removed]",
      "text/plain": [
       "<Figure size 864x576 with 2 Axes>"
      ]
     },
     "metadata": {
      "needs_background": "light"
     },
     "output_type": "display_data"
    }
   ],
   "source": [
    "plt.rcParams['figure.figsize'] = (12, 8)\n",
    "plt.rcParams['font.size'] = 12\n",
    "\n",
    "def iaml01cw2_q2_3(classifier, name):\n",
    "    \n",
    "    pca = PCA(n_components=2)  \n",
    "    pca = pca.fit(Xtrn_nm)\n",
    "    pcs = pca.components_\n",
    "    pc1 = pcs[0]\n",
    "    pc2 = pcs[1]\n",
    "    variances = pca.explained_variance_\n",
    "    sigma1 = np.sqrt(variances[0])\n",
    "    sigma2 = np.sqrt(variances[1])\n",
    "    print(f\"Sigma 1 = {sigma1}\")\n",
    "    print(f\"Sigma 2 = {sigma2}\")\n",
    "    print(f\"PC1 shape : {pc1.shape}\")\n",
    "    print(f\"PC2 shape : {pc2.shape}\")\n",
    "    \n",
    "    span = 5\n",
    "    x = np.linspace(-span*sigma1,span*sigma1,100)  \n",
    "    y = np.linspace(-span*sigma2,span*sigma2,100)\n",
    "    X, Y = np.meshgrid(x, y)\n",
    "    xy = np.vstack([X.ravel(), Y.ravel()]).T\n",
    "    xy = xy.dot(pcs)   # inverse transform, back to original 748 dimensions\n",
    "    #print(xy.shape)\n",
    "    \n",
    "    plt.title(f'Visualising the decision boundaries for the {name} classifier\\n', fontsize=14)\n",
    "    \n",
    "    labels = np.append(np.unique(Ytrn), 10)\n",
    "    Z = classifier.predict(xy)\n",
    "    Z = Z.reshape(X.shape)\n",
    "    plt.contourf(X, Y, Z, cmap='coolwarm', levels = labels)\n",
    "    plt.xlabel(\"PC1\")\n",
    "    plt.ylabel(\"PC2\")\n",
    "    cb = plt.colorbar(label=\"Class\", ticks = labels)\n",
    "    cb.set_ticks(labels + .5)\n",
    "    cb.set_ticklabels(labels)\n",
    "    plt.show()\n",
    "\n",
    "iaml01cw2_q2_3(logreg, \"Logistic Regression\")  "
   ]
  },
  {
   "cell_type": "markdown",
   "metadata": {},
   "source": [
    "Q2.4"
   ]
  },
  {
   "cell_type": "code",
   "execution_count": 32,
   "metadata": {},
   "outputs": [
    {
     "name": "stdout",
     "output_type": "stream",
     "text": [
      "Sigma 1 = 4.450820786444202\n",
      "Sigma 2 = 3.480260114596812\n",
      "PC1 shape : (784,)\n",
      "PC2 shape : (784,)\n"
     ]
    },
    {
     "data": {
      "image/png": "[encoded data removed]",
      "text/plain": [
       "<Figure size 864x576 with 2 Axes>"
      ]
     },
     "metadata": {
      "needs_background": "light"
     },
     "output_type": "display_data"
    },
    {
     "name": "stdout",
     "output_type": "stream",
     "text": [
      "Total time taken = 318.0184528827667\n"
     ]
    }
   ],
   "source": [
    "def iaml01cw2_q2_4():\n",
    "    \n",
    "    #print(support_vectors.shape)\n",
    "    iaml01cw2_q2_3(svc_rbf, \"SVM\") \n",
    "    \n",
    "t1 = time.time()\n",
    "iaml01cw2_q2_4() \n",
    "t2 = time.time()\n",
    "print(f\"Total time taken = {t2-t1}\")"
   ]
  },
  {
   "cell_type": "markdown",
   "metadata": {},
   "source": [
    "Q2.5"
   ]
  },
  {
   "cell_type": "code",
   "execution_count": 7,
   "metadata": {},
   "outputs": [
    {
     "name": "stdout",
     "output_type": "stream",
     "text": [
      "(10000, 784)\n",
      "(10000,)\n",
      "\n",
      "With C=0.01:\n",
      "RBF SVM classification accuracy with 3-fold validation: 0.6481958005910101\n",
      "Time taken for this C was 380.6879663467407\n",
      "\n",
      "With C=0.03593813663804628:\n",
      "RBF SVM classification accuracy with 3-fold validation: 0.6910976845108582\n",
      "Time taken for this C was 270.0224199295044\n",
      "\n",
      "With C=0.1291549665014884:\n",
      "RBF SVM classification accuracy with 3-fold validation: 0.7367022711334088\n",
      "Time taken for this C was 229.59889793395996\n",
      "\n",
      "With C=0.464158883361278:\n",
      "RBF SVM classification accuracy with 3-fold validation: 0.783804163444882\n",
      "Time taken for this C was 156.20307302474976\n",
      "\n",
      "With C=1.6681005372000592:\n",
      "RBF SVM classification accuracy with 3-fold validation: 0.8197017376658096\n",
      "Time taken for this C was 136.61134696006775\n",
      "\n",
      "With C=5.994842503189409:\n",
      "RBF SVM classification accuracy with 3-fold validation: 0.8447012881144618\n",
      "Time taken for this C was 105.49323987960815\n",
      "\n",
      "With C=21.544346900318846:\n",
      "RBF SVM classification accuracy with 3-fold validation: 0.8565023106939273\n",
      "Time taken for this C was 96.68212080001831\n",
      "\n",
      "With C=77.42636826811278:\n",
      "RBF SVM classification accuracy with 3-fold validation: 0.8542039045033057\n",
      "Time taken for this C was 79.12110781669617\n",
      "\n",
      "With C=278.2559402207126:\n",
      "RBF SVM classification accuracy with 3-fold validation: 0.8495030959102815\n",
      "Time taken for this C was 74.36474776268005\n",
      "\n",
      "With C=1000.0:\n",
      "RBF SVM classification accuracy with 3-fold validation: 0.8406013798229367\n",
      "Time taken for this C was 77.46094918251038\n"
     ]
    },
    {
     "data": {
      "image/png": "[encoded data removed]",
      "text/plain": [
       "<Figure size 864x576 with 1 Axes>"
      ]
     },
     "metadata": {
      "needs_background": "light"
     },
     "output_type": "display_data"
    }
   ],
   "source": [
    "def iaml01cw2_q2_5():\n",
    "    \n",
    "    Xsmall, Ysmall = get_first_1000(Xtrn_nm, Ytrn)\n",
    "    print(Xsmall.shape)\n",
    "    print(Ysmall.shape)\n",
    "    Cs = np.logspace(-2,3,10) \n",
    "    accuracies = []\n",
    "    bestmean = 0\n",
    "    bestC = 0\n",
    "    \n",
    "    for C in Cs:\n",
    "        t1 = time.time()\n",
    "        print(f\"\\nWith C={C}:\")\n",
    "        X_csr = sparse.csr_matrix(Xsmall)\n",
    "        svc_rbf = SVC(C=C, gamma='auto')\n",
    "        scores = cross_val_score(svc_rbf, X_csr, Ysmall, cv=3)  # 3-fold cross validation\n",
    "        mean = np.mean(scores)\n",
    "        print(f'RBF SVM classification accuracy with 3-fold validation: {mean}')        \n",
    "        accuracies.append(mean)\n",
    "        if(mean==max(accuracies)):\n",
    "            bestmean = mean\n",
    "            bestC = C\n",
    "        t2 = time.time()\n",
    "        print(f\"Time taken for this C was {t2-t1}\")        \n",
    "            \n",
    "    fig, ax = plt.subplots()\n",
    "    plt.plot(Cs, accuracies)\n",
    "    plt.title(\"RBF SVM classification accuracy with 3-fold validation\\nagainst penalty parameter C\")\n",
    "    plt.ylabel(\"Classification accuracy\")\n",
    "    plt.xlabel(\"C\")\n",
    "    ax.set_xscale('log')\n",
    "    plt.show()\n",
    "    \n",
    "    return bestmean, bestC\n",
    "    \n",
    "bestmean, bestC = iaml01cw2_q2_5()  "
   ]
  },
  {
   "cell_type": "markdown",
   "metadata": {},
   "source": [
    "Q2.6 "
   ]
  },
  {
   "cell_type": "code",
   "execution_count": 33,
   "metadata": {},
   "outputs": [
    {
     "name": "stdout",
     "output_type": "stream",
     "text": [
      "0.8565023106939273\n",
      "21.544346900318846\n",
      "RBF SVM classification accuracy on test set: 0.876500\n",
      "RBF SVM classification accuracy on train set: 0.908417\n",
      "Total time taken = 2162.7402188777924\n"
     ]
    }
   ],
   "source": [
    "def iaml01cw2_q2_6():\n",
    "    \n",
    "    print(bestmean)\n",
    "    print(bestC)\n",
    "    X_csr = sparse.csr_matrix(Xtrn_nm)\n",
    "    svc_rbf = SVC(C=bestC)\n",
    "    svc_rbf.fit(X_csr, Ytrn)\n",
    "    print('RBF SVM classification accuracy on test set: {:.6f}'.format(svc_rbf.score(Xtst_nm, Ytst)))\n",
    "    print('RBF SVM classification accuracy on train set: {:.6f}'.format(svc_rbf.score(Xtrn_nm, Ytrn)))\n",
    "\n",
    "t1 = time.time()\n",
    "iaml01cw2_q2_6()\n",
    "t2 = time.time()\n",
    "print(f\"Total time taken = {t2-t1}\")"
   ]
  },
  {
   "cell_type": "code",
   "execution_count": null,
   "metadata": {},
   "outputs": [],
   "source": []
  }
 ],
 "metadata": {
  "kernelspec": {
   "display_name": "Python 3",
   "language": "python",
   "name": "python3"
  },
  "language_info": {
   "codemirror_mode": {
    "name": "ipython",
    "version": 3
   },
   "file_extension": ".py",
   "mimetype": "text/x-python",
   "name": "python",
   "nbconvert_exporter": "python",
   "pygments_lexer": "ipython3",
   "version": "3.7.9"
  }
 },
 "nbformat": 4,
 "nbformat_minor": 2
}
